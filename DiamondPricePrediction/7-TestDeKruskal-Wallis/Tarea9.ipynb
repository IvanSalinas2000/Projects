{
  "nbformat": 4,
  "nbformat_minor": 0,
  "metadata": {
    "colab": {
      "provenance": [],
      "authorship_tag": "ABX9TyOiUoAEijAHT5g9ob0e5GCW",
      "include_colab_link": true
    },
    "kernelspec": {
      "name": "python3",
      "display_name": "Python 3"
    },
    "language_info": {
      "name": "python"
    }
  },
  "cells": [
    {
      "cell_type": "markdown",
      "metadata": {
        "id": "view-in-github",
        "colab_type": "text"
      },
      "source": [
        "<a href=\"https://colab.research.google.com/github/IvanSalinas2000/Aprendizaje-automatico/blob/main/Tareas/Tarea9/Tarea9.ipynb\" target=\"_parent\"><img src=\"https://colab.research.google.com/assets/colab-badge.svg\" alt=\"Open In Colab\"/></a>"
      ]
    },
    {
      "cell_type": "code",
      "source": [
        "import pandas as pd\n",
        "from scipy.stats import kruskal\n",
        "\n",
        "# Cargar el dataset\n",
        "df = pd.read_csv('diamantesCLEAN.csv')\n",
        "\n",
        "# Definir las variables de interés\n",
        "#Vamos a utlizar las variables que mejoran la metrica del modelo (se obtuvieron en las metricas de seleccion tarea 4)\n",
        "variables_interes = ['carat', 'color', 'clarity', 'table', 'z', 'price']\n",
        "\n",
        "# Crear un subconjunto del DataFrame solo con las variables de interés\n",
        "df_experimento = df[variables_interes]\n"
      ],
      "metadata": {
        "id": "zDxG4h2_aCtn"
      },
      "execution_count": 19,
      "outputs": []
    },
    {
      "cell_type": "code",
      "source": [
        "# Definir las variables categóricas para el test Kruskal-Wallis\n",
        "variable_grupos = ['carat', 'color', 'clarity', 'table', 'z']\n",
        "\n",
        "# Iterar sobre las variables y realizar el test Kruskal-Wallis\n",
        "for var in variable_grupos:\n",
        "    groups = df_experimento.groupby(var)['price'].apply(list)\n",
        "    statistic, p_value = kruskal(*groups)\n",
        "    print(f\"Kruskal-Wallis test for {var}: H-statistic={statistic}, p-value={p_value}\")\n"
      ],
      "metadata": {
        "colab": {
          "base_uri": "https://localhost:8080/"
        },
        "id": "XigNCbGNaD9e",
        "outputId": "f24ed54c-8578-4675-dfdf-e7885fee7616"
      },
      "execution_count": 20,
      "outputs": [
        {
          "output_type": "stream",
          "name": "stdout",
          "text": [
            "Kruskal-Wallis test for carat: H-statistic=50541.86411548716, p-value=0.0\n",
            "Kruskal-Wallis test for color: H-statistic=1331.6080643298367, p-value=1.5557872843482957e-284\n",
            "Kruskal-Wallis test for clarity: H-statistic=2714.9118322959584, p-value=0.0\n",
            "Kruskal-Wallis test for table: H-statistic=1795.926370392601, p-value=1.1882069875622716e-293\n",
            "Kruskal-Wallis test for z: H-statistic=50226.06806245988, p-value=0.0\n"
          ]
        }
      ]
    }
  ]
}